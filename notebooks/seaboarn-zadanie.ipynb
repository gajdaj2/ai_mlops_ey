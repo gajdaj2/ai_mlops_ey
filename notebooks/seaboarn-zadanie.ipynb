{
 "cells": [
  {
   "cell_type": "code",
   "id": "initial_id",
   "metadata": {
    "collapsed": true,
    "ExecuteTime": {
     "end_time": "2024-11-28T07:57:51.196522Z",
     "start_time": "2024-11-28T07:57:51.194203Z"
    }
   },
   "source": [
    "# Masz dane o wydatkach klientów w sklepie w różnych kategoriach (żywność, ubrania, elektronika) oraz ich cechach demograficznych (wiek, płeć). Twoim zadaniem jest:\n",
    "#\n",
    "# Zobrazowanie rozkładu wydatków w każdej kategorii.\n",
    "# Porównanie średnich wydatków między grupami wiekowymi i płciami.\n",
    "# Zbadanie korelacji między różnymi typami wydatków.\n",
    "# Przedstawienie zależności między wiekiem a wydatkami."
   ],
   "outputs": [],
   "execution_count": 1
  },
  {
   "metadata": {
    "ExecuteTime": {
     "end_time": "2024-11-28T07:57:53.211363Z",
     "start_time": "2024-11-28T07:57:53.197104Z"
    }
   },
   "cell_type": "code",
   "source": [
    "import pandas as pd\n",
    "import numpy as np\n",
    "\n",
    "# Generowanie danych\n",
    "np.random.seed(42)\n",
    "\n",
    "# Liczba klientów\n",
    "n_customers = 200\n",
    "\n",
    "# Generowanie danych\n",
    "data = pd.DataFrame({\n",
    "    'CustomerID': range(1, n_customers + 1),\n",
    "    'Age': np.random.randint(18, 70, n_customers),\n",
    "    'Gender': np.random.choice(['Male', 'Female'], n_customers),\n",
    "    'Spending_Food': np.random.gamma(2, 20, n_customers),\n",
    "    'Spending_Clothing': np.random.gamma(1.5, 15, n_customers),\n",
    "    'Spending_Electronics': np.random.gamma(2, 30, n_customers)\n",
    "})\n",
    "\n",
    "# Podział na grupy wiekowe\n",
    "data['AgeGroup'] = pd.cut(data['Age'], bins=[18, 30, 45, 60, 70], labels=['18-30', '31-45', '46-60', '60+'])\n",
    "\n",
    "# Zapis do CSV\n",
    "data.to_csv('customer_spending.csv', index=False)\n",
    "print(data.head())"
   ],
   "id": "ed0ec7b04e1990f9",
   "outputs": [
    {
     "name": "stdout",
     "output_type": "stream",
     "text": [
      "   CustomerID  Age  Gender  Spending_Food  Spending_Clothing  \\\n",
      "0           1   56  Female      29.826093           6.511793   \n",
      "1           2   69  Female      61.304221          30.020051   \n",
      "2           3   46    Male      60.453905          38.870214   \n",
      "3           4   32    Male      44.587025          33.031121   \n",
      "4           5   60  Female      88.002037          14.484590   \n",
      "\n",
      "   Spending_Electronics AgeGroup  \n",
      "0             21.976698    46-60  \n",
      "1             76.733266      60+  \n",
      "2            102.075990    46-60  \n",
      "3             46.419267    31-45  \n",
      "4             59.431162    46-60  \n"
     ]
    }
   ],
   "execution_count": 2
  },
  {
   "metadata": {},
   "cell_type": "code",
   "outputs": [],
   "execution_count": null,
   "source": "",
   "id": "38c0f1978a10c2b0"
  }
 ],
 "metadata": {
  "kernelspec": {
   "display_name": "Python 3",
   "language": "python",
   "name": "python3"
  },
  "language_info": {
   "codemirror_mode": {
    "name": "ipython",
    "version": 2
   },
   "file_extension": ".py",
   "mimetype": "text/x-python",
   "name": "python",
   "nbconvert_exporter": "python",
   "pygments_lexer": "ipython2",
   "version": "2.7.6"
  }
 },
 "nbformat": 4,
 "nbformat_minor": 5
}
