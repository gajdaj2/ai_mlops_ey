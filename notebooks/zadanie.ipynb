{
 "cells": [
  {
   "cell_type": "code",
   "id": "initial_id",
   "metadata": {
    "collapsed": true,
    "ExecuteTime": {
     "end_time": "2024-11-28T08:52:31.671684Z",
     "start_time": "2024-11-28T08:52:31.648361Z"
    }
   },
   "source": [
    "import pandas as pd\n",
    "\n",
    "orders = pd.read_csv(\"../data/pandas-ext-1.csv\")\n",
    "\n",
    "orders.head()"
   ],
   "outputs": [
    {
     "data": {
      "text/plain": [
       "   OrderID        Date     Customer     Product  Quantity  Price  \\\n",
       "0        1  2023-01-15     John Doe      Laptop         1   1200   \n",
       "1        2  2023-01-16   Jane Smith  Smartphone         2    800   \n",
       "2        3  2023-01-17  Emily Davis      Laptop         1   1300   \n",
       "3        4  2023-01-18  Chris Brown      Tablet         3    600   \n",
       "4        5  2023-01-19     John Doe  Smartphone         1    800   \n",
       "\n",
       "            City  \n",
       "0       New York  \n",
       "1  San Francisco  \n",
       "2    Los Angeles  \n",
       "3       New York  \n",
       "4       New York  "
      ],
      "text/html": [
       "<div>\n",
       "<style scoped>\n",
       "    .dataframe tbody tr th:only-of-type {\n",
       "        vertical-align: middle;\n",
       "    }\n",
       "\n",
       "    .dataframe tbody tr th {\n",
       "        vertical-align: top;\n",
       "    }\n",
       "\n",
       "    .dataframe thead th {\n",
       "        text-align: right;\n",
       "    }\n",
       "</style>\n",
       "<table border=\"1\" class=\"dataframe\">\n",
       "  <thead>\n",
       "    <tr style=\"text-align: right;\">\n",
       "      <th></th>\n",
       "      <th>OrderID</th>\n",
       "      <th>Date</th>\n",
       "      <th>Customer</th>\n",
       "      <th>Product</th>\n",
       "      <th>Quantity</th>\n",
       "      <th>Price</th>\n",
       "      <th>City</th>\n",
       "    </tr>\n",
       "  </thead>\n",
       "  <tbody>\n",
       "    <tr>\n",
       "      <th>0</th>\n",
       "      <td>1</td>\n",
       "      <td>2023-01-15</td>\n",
       "      <td>John Doe</td>\n",
       "      <td>Laptop</td>\n",
       "      <td>1</td>\n",
       "      <td>1200</td>\n",
       "      <td>New York</td>\n",
       "    </tr>\n",
       "    <tr>\n",
       "      <th>1</th>\n",
       "      <td>2</td>\n",
       "      <td>2023-01-16</td>\n",
       "      <td>Jane Smith</td>\n",
       "      <td>Smartphone</td>\n",
       "      <td>2</td>\n",
       "      <td>800</td>\n",
       "      <td>San Francisco</td>\n",
       "    </tr>\n",
       "    <tr>\n",
       "      <th>2</th>\n",
       "      <td>3</td>\n",
       "      <td>2023-01-17</td>\n",
       "      <td>Emily Davis</td>\n",
       "      <td>Laptop</td>\n",
       "      <td>1</td>\n",
       "      <td>1300</td>\n",
       "      <td>Los Angeles</td>\n",
       "    </tr>\n",
       "    <tr>\n",
       "      <th>3</th>\n",
       "      <td>4</td>\n",
       "      <td>2023-01-18</td>\n",
       "      <td>Chris Brown</td>\n",
       "      <td>Tablet</td>\n",
       "      <td>3</td>\n",
       "      <td>600</td>\n",
       "      <td>New York</td>\n",
       "    </tr>\n",
       "    <tr>\n",
       "      <th>4</th>\n",
       "      <td>5</td>\n",
       "      <td>2023-01-19</td>\n",
       "      <td>John Doe</td>\n",
       "      <td>Smartphone</td>\n",
       "      <td>1</td>\n",
       "      <td>800</td>\n",
       "      <td>New York</td>\n",
       "    </tr>\n",
       "  </tbody>\n",
       "</table>\n",
       "</div>"
      ]
     },
     "execution_count": 10,
     "metadata": {},
     "output_type": "execute_result"
    }
   ],
   "execution_count": 10
  },
  {
   "metadata": {
    "ExecuteTime": {
     "end_time": "2024-11-28T08:54:26.921684Z",
     "start_time": "2024-11-28T08:54:26.911044Z"
    }
   },
   "cell_type": "code",
   "source": [
    "#Sprawdź typy danych, liczbę wierszy i kolumn oraz czy są wartości brakujące.\n",
    "orders.info()\n",
    "orders.describe()"
   ],
   "id": "4f2bb779d0282175",
   "outputs": [
    {
     "name": "stdout",
     "output_type": "stream",
     "text": [
      "<class 'pandas.core.frame.DataFrame'>\n",
      "RangeIndex: 10 entries, 0 to 9\n",
      "Data columns (total 7 columns):\n",
      " #   Column    Non-Null Count  Dtype \n",
      "---  ------    --------------  ----- \n",
      " 0   OrderID   10 non-null     int64 \n",
      " 1   Date      10 non-null     object\n",
      " 2   Customer  10 non-null     object\n",
      " 3   Product   10 non-null     object\n",
      " 4   Quantity  10 non-null     int64 \n",
      " 5   Price     10 non-null     int64 \n",
      " 6   City      10 non-null     object\n",
      "dtypes: int64(3), object(4)\n",
      "memory usage: 692.0+ bytes\n"
     ]
    },
    {
     "data": {
      "text/plain": [
       "        OrderID   Quantity        Price\n",
       "count  10.00000  10.000000    10.000000\n",
       "mean    5.50000   1.700000   735.000000\n",
       "std     3.02765   0.823273   378.630573\n",
       "min     1.00000   1.000000   200.000000\n",
       "25%     3.25000   1.000000   525.000000\n",
       "50%     5.50000   1.500000   700.000000\n",
       "75%     7.75000   2.000000  1025.000000\n",
       "max    10.00000   3.000000  1300.000000"
      ],
      "text/html": [
       "<div>\n",
       "<style scoped>\n",
       "    .dataframe tbody tr th:only-of-type {\n",
       "        vertical-align: middle;\n",
       "    }\n",
       "\n",
       "    .dataframe tbody tr th {\n",
       "        vertical-align: top;\n",
       "    }\n",
       "\n",
       "    .dataframe thead th {\n",
       "        text-align: right;\n",
       "    }\n",
       "</style>\n",
       "<table border=\"1\" class=\"dataframe\">\n",
       "  <thead>\n",
       "    <tr style=\"text-align: right;\">\n",
       "      <th></th>\n",
       "      <th>OrderID</th>\n",
       "      <th>Quantity</th>\n",
       "      <th>Price</th>\n",
       "    </tr>\n",
       "  </thead>\n",
       "  <tbody>\n",
       "    <tr>\n",
       "      <th>count</th>\n",
       "      <td>10.00000</td>\n",
       "      <td>10.000000</td>\n",
       "      <td>10.000000</td>\n",
       "    </tr>\n",
       "    <tr>\n",
       "      <th>mean</th>\n",
       "      <td>5.50000</td>\n",
       "      <td>1.700000</td>\n",
       "      <td>735.000000</td>\n",
       "    </tr>\n",
       "    <tr>\n",
       "      <th>std</th>\n",
       "      <td>3.02765</td>\n",
       "      <td>0.823273</td>\n",
       "      <td>378.630573</td>\n",
       "    </tr>\n",
       "    <tr>\n",
       "      <th>min</th>\n",
       "      <td>1.00000</td>\n",
       "      <td>1.000000</td>\n",
       "      <td>200.000000</td>\n",
       "    </tr>\n",
       "    <tr>\n",
       "      <th>25%</th>\n",
       "      <td>3.25000</td>\n",
       "      <td>1.000000</td>\n",
       "      <td>525.000000</td>\n",
       "    </tr>\n",
       "    <tr>\n",
       "      <th>50%</th>\n",
       "      <td>5.50000</td>\n",
       "      <td>1.500000</td>\n",
       "      <td>700.000000</td>\n",
       "    </tr>\n",
       "    <tr>\n",
       "      <th>75%</th>\n",
       "      <td>7.75000</td>\n",
       "      <td>2.000000</td>\n",
       "      <td>1025.000000</td>\n",
       "    </tr>\n",
       "    <tr>\n",
       "      <th>max</th>\n",
       "      <td>10.00000</td>\n",
       "      <td>3.000000</td>\n",
       "      <td>1300.000000</td>\n",
       "    </tr>\n",
       "  </tbody>\n",
       "</table>\n",
       "</div>"
      ]
     },
     "execution_count": 12,
     "metadata": {},
     "output_type": "execute_result"
    }
   ],
   "execution_count": 12
  },
  {
   "metadata": {
    "ExecuteTime": {
     "end_time": "2024-11-28T08:54:45.855249Z",
     "start_time": "2024-11-28T08:54:45.849627Z"
    }
   },
   "cell_type": "code",
   "source": [
    "#Oblicz całkowitą wartość każdego zamówienia jako iloczyn ilości (Quantity) i ceny (Price).\n",
    "orders['OrderValue'] = orders['Quantity'] * orders['Price']\n",
    "orders[['OrderID', 'OrderValue']]"
   ],
   "id": "f4e4bb47f2472009",
   "outputs": [
    {
     "data": {
      "text/plain": [
       "   OrderID  OrderValue\n",
       "0        1        1200\n",
       "1        2        1600\n",
       "2        3        1300\n",
       "3        4        1800\n",
       "4        5         800\n",
       "5        6         400\n",
       "6        7         600\n",
       "7        8        2200\n",
       "8        9         250\n",
       "9       10        1500"
      ],
      "text/html": [
       "<div>\n",
       "<style scoped>\n",
       "    .dataframe tbody tr th:only-of-type {\n",
       "        vertical-align: middle;\n",
       "    }\n",
       "\n",
       "    .dataframe tbody tr th {\n",
       "        vertical-align: top;\n",
       "    }\n",
       "\n",
       "    .dataframe thead th {\n",
       "        text-align: right;\n",
       "    }\n",
       "</style>\n",
       "<table border=\"1\" class=\"dataframe\">\n",
       "  <thead>\n",
       "    <tr style=\"text-align: right;\">\n",
       "      <th></th>\n",
       "      <th>OrderID</th>\n",
       "      <th>OrderValue</th>\n",
       "    </tr>\n",
       "  </thead>\n",
       "  <tbody>\n",
       "    <tr>\n",
       "      <th>0</th>\n",
       "      <td>1</td>\n",
       "      <td>1200</td>\n",
       "    </tr>\n",
       "    <tr>\n",
       "      <th>1</th>\n",
       "      <td>2</td>\n",
       "      <td>1600</td>\n",
       "    </tr>\n",
       "    <tr>\n",
       "      <th>2</th>\n",
       "      <td>3</td>\n",
       "      <td>1300</td>\n",
       "    </tr>\n",
       "    <tr>\n",
       "      <th>3</th>\n",
       "      <td>4</td>\n",
       "      <td>1800</td>\n",
       "    </tr>\n",
       "    <tr>\n",
       "      <th>4</th>\n",
       "      <td>5</td>\n",
       "      <td>800</td>\n",
       "    </tr>\n",
       "    <tr>\n",
       "      <th>5</th>\n",
       "      <td>6</td>\n",
       "      <td>400</td>\n",
       "    </tr>\n",
       "    <tr>\n",
       "      <th>6</th>\n",
       "      <td>7</td>\n",
       "      <td>600</td>\n",
       "    </tr>\n",
       "    <tr>\n",
       "      <th>7</th>\n",
       "      <td>8</td>\n",
       "      <td>2200</td>\n",
       "    </tr>\n",
       "    <tr>\n",
       "      <th>8</th>\n",
       "      <td>9</td>\n",
       "      <td>250</td>\n",
       "    </tr>\n",
       "    <tr>\n",
       "      <th>9</th>\n",
       "      <td>10</td>\n",
       "      <td>1500</td>\n",
       "    </tr>\n",
       "  </tbody>\n",
       "</table>\n",
       "</div>"
      ]
     },
     "execution_count": 13,
     "metadata": {},
     "output_type": "execute_result"
    }
   ],
   "execution_count": 13
  },
  {
   "metadata": {
    "ExecuteTime": {
     "end_time": "2024-11-28T08:54:59.381389Z",
     "start_time": "2024-11-28T08:54:59.374398Z"
    }
   },
   "cell_type": "code",
   "source": [
    "#Oblicz łączną wartość zamówień dla każdego klienta.\n",
    "high_value_orders = orders[orders['OrderValue'] > 1000]\n",
    "high_value_orders"
   ],
   "id": "818ba7a53422e5d1",
   "outputs": [
    {
     "data": {
      "text/plain": [
       "   OrderID        Date     Customer     Product  Quantity  Price  \\\n",
       "0        1  2023-01-15     John Doe      Laptop         1   1200   \n",
       "1        2  2023-01-16   Jane Smith  Smartphone         2    800   \n",
       "2        3  2023-01-17  Emily Davis      Laptop         1   1300   \n",
       "3        4  2023-01-18  Chris Brown      Tablet         3    600   \n",
       "7        8  2023-01-22  Chris Brown      Laptop         2   1100   \n",
       "9       10  2023-01-24   Jane Smith      Tablet         3    500   \n",
       "\n",
       "            City  OrderValue  \n",
       "0       New York        1200  \n",
       "1  San Francisco        1600  \n",
       "2    Los Angeles        1300  \n",
       "3       New York        1800  \n",
       "7       New York        2200  \n",
       "9  San Francisco        1500  "
      ],
      "text/html": [
       "<div>\n",
       "<style scoped>\n",
       "    .dataframe tbody tr th:only-of-type {\n",
       "        vertical-align: middle;\n",
       "    }\n",
       "\n",
       "    .dataframe tbody tr th {\n",
       "        vertical-align: top;\n",
       "    }\n",
       "\n",
       "    .dataframe thead th {\n",
       "        text-align: right;\n",
       "    }\n",
       "</style>\n",
       "<table border=\"1\" class=\"dataframe\">\n",
       "  <thead>\n",
       "    <tr style=\"text-align: right;\">\n",
       "      <th></th>\n",
       "      <th>OrderID</th>\n",
       "      <th>Date</th>\n",
       "      <th>Customer</th>\n",
       "      <th>Product</th>\n",
       "      <th>Quantity</th>\n",
       "      <th>Price</th>\n",
       "      <th>City</th>\n",
       "      <th>OrderValue</th>\n",
       "    </tr>\n",
       "  </thead>\n",
       "  <tbody>\n",
       "    <tr>\n",
       "      <th>0</th>\n",
       "      <td>1</td>\n",
       "      <td>2023-01-15</td>\n",
       "      <td>John Doe</td>\n",
       "      <td>Laptop</td>\n",
       "      <td>1</td>\n",
       "      <td>1200</td>\n",
       "      <td>New York</td>\n",
       "      <td>1200</td>\n",
       "    </tr>\n",
       "    <tr>\n",
       "      <th>1</th>\n",
       "      <td>2</td>\n",
       "      <td>2023-01-16</td>\n",
       "      <td>Jane Smith</td>\n",
       "      <td>Smartphone</td>\n",
       "      <td>2</td>\n",
       "      <td>800</td>\n",
       "      <td>San Francisco</td>\n",
       "      <td>1600</td>\n",
       "    </tr>\n",
       "    <tr>\n",
       "      <th>2</th>\n",
       "      <td>3</td>\n",
       "      <td>2023-01-17</td>\n",
       "      <td>Emily Davis</td>\n",
       "      <td>Laptop</td>\n",
       "      <td>1</td>\n",
       "      <td>1300</td>\n",
       "      <td>Los Angeles</td>\n",
       "      <td>1300</td>\n",
       "    </tr>\n",
       "    <tr>\n",
       "      <th>3</th>\n",
       "      <td>4</td>\n",
       "      <td>2023-01-18</td>\n",
       "      <td>Chris Brown</td>\n",
       "      <td>Tablet</td>\n",
       "      <td>3</td>\n",
       "      <td>600</td>\n",
       "      <td>New York</td>\n",
       "      <td>1800</td>\n",
       "    </tr>\n",
       "    <tr>\n",
       "      <th>7</th>\n",
       "      <td>8</td>\n",
       "      <td>2023-01-22</td>\n",
       "      <td>Chris Brown</td>\n",
       "      <td>Laptop</td>\n",
       "      <td>2</td>\n",
       "      <td>1100</td>\n",
       "      <td>New York</td>\n",
       "      <td>2200</td>\n",
       "    </tr>\n",
       "    <tr>\n",
       "      <th>9</th>\n",
       "      <td>10</td>\n",
       "      <td>2023-01-24</td>\n",
       "      <td>Jane Smith</td>\n",
       "      <td>Tablet</td>\n",
       "      <td>3</td>\n",
       "      <td>500</td>\n",
       "      <td>San Francisco</td>\n",
       "      <td>1500</td>\n",
       "    </tr>\n",
       "  </tbody>\n",
       "</table>\n",
       "</div>"
      ]
     },
     "execution_count": 14,
     "metadata": {},
     "output_type": "execute_result"
    }
   ],
   "execution_count": 14
  },
  {
   "metadata": {
    "ExecuteTime": {
     "end_time": "2024-11-28T08:58:37.222170Z",
     "start_time": "2024-11-28T08:58:37.214338Z"
    }
   },
   "cell_type": "code",
   "source": [
    "#Znajdź produkt, który sprzedano w największej liczbie sztuk.\n",
    "high_value_orders = orders[orders['OrderValue'] > 1000]\n",
    "high_value_orders"
   ],
   "id": "d29f4ee2121b736a",
   "outputs": [
    {
     "data": {
      "text/plain": [
       "   OrderID        Date     Customer     Product  Quantity  Price  \\\n",
       "0        1  2023-01-15     John Doe      Laptop         1   1200   \n",
       "1        2  2023-01-16   Jane Smith  Smartphone         2    800   \n",
       "2        3  2023-01-17  Emily Davis      Laptop         1   1300   \n",
       "3        4  2023-01-18  Chris Brown      Tablet         3    600   \n",
       "7        8  2023-01-22  Chris Brown      Laptop         2   1100   \n",
       "9       10  2023-01-24   Jane Smith      Tablet         3    500   \n",
       "\n",
       "            City  OrderValue  \n",
       "0       New York        1200  \n",
       "1  San Francisco        1600  \n",
       "2    Los Angeles        1300  \n",
       "3       New York        1800  \n",
       "7       New York        2200  \n",
       "9  San Francisco        1500  "
      ],
      "text/html": [
       "<div>\n",
       "<style scoped>\n",
       "    .dataframe tbody tr th:only-of-type {\n",
       "        vertical-align: middle;\n",
       "    }\n",
       "\n",
       "    .dataframe tbody tr th {\n",
       "        vertical-align: top;\n",
       "    }\n",
       "\n",
       "    .dataframe thead th {\n",
       "        text-align: right;\n",
       "    }\n",
       "</style>\n",
       "<table border=\"1\" class=\"dataframe\">\n",
       "  <thead>\n",
       "    <tr style=\"text-align: right;\">\n",
       "      <th></th>\n",
       "      <th>OrderID</th>\n",
       "      <th>Date</th>\n",
       "      <th>Customer</th>\n",
       "      <th>Product</th>\n",
       "      <th>Quantity</th>\n",
       "      <th>Price</th>\n",
       "      <th>City</th>\n",
       "      <th>OrderValue</th>\n",
       "    </tr>\n",
       "  </thead>\n",
       "  <tbody>\n",
       "    <tr>\n",
       "      <th>0</th>\n",
       "      <td>1</td>\n",
       "      <td>2023-01-15</td>\n",
       "      <td>John Doe</td>\n",
       "      <td>Laptop</td>\n",
       "      <td>1</td>\n",
       "      <td>1200</td>\n",
       "      <td>New York</td>\n",
       "      <td>1200</td>\n",
       "    </tr>\n",
       "    <tr>\n",
       "      <th>1</th>\n",
       "      <td>2</td>\n",
       "      <td>2023-01-16</td>\n",
       "      <td>Jane Smith</td>\n",
       "      <td>Smartphone</td>\n",
       "      <td>2</td>\n",
       "      <td>800</td>\n",
       "      <td>San Francisco</td>\n",
       "      <td>1600</td>\n",
       "    </tr>\n",
       "    <tr>\n",
       "      <th>2</th>\n",
       "      <td>3</td>\n",
       "      <td>2023-01-17</td>\n",
       "      <td>Emily Davis</td>\n",
       "      <td>Laptop</td>\n",
       "      <td>1</td>\n",
       "      <td>1300</td>\n",
       "      <td>Los Angeles</td>\n",
       "      <td>1300</td>\n",
       "    </tr>\n",
       "    <tr>\n",
       "      <th>3</th>\n",
       "      <td>4</td>\n",
       "      <td>2023-01-18</td>\n",
       "      <td>Chris Brown</td>\n",
       "      <td>Tablet</td>\n",
       "      <td>3</td>\n",
       "      <td>600</td>\n",
       "      <td>New York</td>\n",
       "      <td>1800</td>\n",
       "    </tr>\n",
       "    <tr>\n",
       "      <th>7</th>\n",
       "      <td>8</td>\n",
       "      <td>2023-01-22</td>\n",
       "      <td>Chris Brown</td>\n",
       "      <td>Laptop</td>\n",
       "      <td>2</td>\n",
       "      <td>1100</td>\n",
       "      <td>New York</td>\n",
       "      <td>2200</td>\n",
       "    </tr>\n",
       "    <tr>\n",
       "      <th>9</th>\n",
       "      <td>10</td>\n",
       "      <td>2023-01-24</td>\n",
       "      <td>Jane Smith</td>\n",
       "      <td>Tablet</td>\n",
       "      <td>3</td>\n",
       "      <td>500</td>\n",
       "      <td>San Francisco</td>\n",
       "      <td>1500</td>\n",
       "    </tr>\n",
       "  </tbody>\n",
       "</table>\n",
       "</div>"
      ]
     },
     "execution_count": 16,
     "metadata": {},
     "output_type": "execute_result"
    }
   ],
   "execution_count": 16
  },
  {
   "metadata": {
    "ExecuteTime": {
     "end_time": "2024-11-28T08:58:52.346189Z",
     "start_time": "2024-11-28T08:58:52.340847Z"
    }
   },
   "cell_type": "code",
   "source": [
    "#Oblicz łączną sprzedaż (wartość zamówień) w każdym mieście.\n",
    "total_by_customer = orders.groupby('Customer')['OrderValue'].sum()\n",
    "total_by_customer"
   ],
   "id": "3c85f3fd036db286",
   "outputs": [
    {
     "data": {
      "text/plain": [
       "Customer\n",
       "Chris Brown    4000\n",
       "Emily Davis    1900\n",
       "Jane Smith     3500\n",
       "John Doe       2250\n",
       "Name: OrderValue, dtype: int64"
      ]
     },
     "execution_count": 17,
     "metadata": {},
     "output_type": "execute_result"
    }
   ],
   "execution_count": 17
  },
  {
   "metadata": {
    "ExecuteTime": {
     "end_time": "2024-11-28T08:59:52.716270Z",
     "start_time": "2024-11-28T08:59:52.710358Z"
    }
   },
   "cell_type": "code",
   "source": [
    "#Wyświetl wszystkie zamówienia na laptopy.\n",
    "laptop_orders = orders[orders['Product'] == 'Laptop']\n",
    "laptop_orders"
   ],
   "id": "4b0b172c65f0b629",
   "outputs": [
    {
     "data": {
      "text/plain": [
       "   OrderID        Date     Customer Product  Quantity  Price         City  \\\n",
       "0        1  2023-01-15     John Doe  Laptop         1   1200     New York   \n",
       "2        3  2023-01-17  Emily Davis  Laptop         1   1300  Los Angeles   \n",
       "7        8  2023-01-22  Chris Brown  Laptop         2   1100     New York   \n",
       "\n",
       "   OrderValue  \n",
       "0        1200  \n",
       "2        1300  \n",
       "7        2200  "
      ],
      "text/html": [
       "<div>\n",
       "<style scoped>\n",
       "    .dataframe tbody tr th:only-of-type {\n",
       "        vertical-align: middle;\n",
       "    }\n",
       "\n",
       "    .dataframe tbody tr th {\n",
       "        vertical-align: top;\n",
       "    }\n",
       "\n",
       "    .dataframe thead th {\n",
       "        text-align: right;\n",
       "    }\n",
       "</style>\n",
       "<table border=\"1\" class=\"dataframe\">\n",
       "  <thead>\n",
       "    <tr style=\"text-align: right;\">\n",
       "      <th></th>\n",
       "      <th>OrderID</th>\n",
       "      <th>Date</th>\n",
       "      <th>Customer</th>\n",
       "      <th>Product</th>\n",
       "      <th>Quantity</th>\n",
       "      <th>Price</th>\n",
       "      <th>City</th>\n",
       "      <th>OrderValue</th>\n",
       "    </tr>\n",
       "  </thead>\n",
       "  <tbody>\n",
       "    <tr>\n",
       "      <th>0</th>\n",
       "      <td>1</td>\n",
       "      <td>2023-01-15</td>\n",
       "      <td>John Doe</td>\n",
       "      <td>Laptop</td>\n",
       "      <td>1</td>\n",
       "      <td>1200</td>\n",
       "      <td>New York</td>\n",
       "      <td>1200</td>\n",
       "    </tr>\n",
       "    <tr>\n",
       "      <th>2</th>\n",
       "      <td>3</td>\n",
       "      <td>2023-01-17</td>\n",
       "      <td>Emily Davis</td>\n",
       "      <td>Laptop</td>\n",
       "      <td>1</td>\n",
       "      <td>1300</td>\n",
       "      <td>Los Angeles</td>\n",
       "      <td>1300</td>\n",
       "    </tr>\n",
       "    <tr>\n",
       "      <th>7</th>\n",
       "      <td>8</td>\n",
       "      <td>2023-01-22</td>\n",
       "      <td>Chris Brown</td>\n",
       "      <td>Laptop</td>\n",
       "      <td>2</td>\n",
       "      <td>1100</td>\n",
       "      <td>New York</td>\n",
       "      <td>2200</td>\n",
       "    </tr>\n",
       "  </tbody>\n",
       "</table>\n",
       "</div>"
      ]
     },
     "execution_count": 18,
     "metadata": {},
     "output_type": "execute_result"
    }
   ],
   "execution_count": 18
  },
  {
   "metadata": {
    "ExecuteTime": {
     "end_time": "2024-11-28T09:00:53.776556Z",
     "start_time": "2024-11-28T09:00:53.772732Z"
    }
   },
   "cell_type": "code",
   "source": [
    "#Znajdź dzień, w którym odnotowano największą wartość sprzedaży.\n",
    "daily_sales = orders.groupby('Date')['OrderValue'].sum()\n",
    "best_day = daily_sales.idxmax()\n",
    "print(f\"Najlepszy dzień sprzedaży: {best_day}\")"
   ],
   "id": "b9ed54c6549c028d",
   "outputs": [
    {
     "name": "stdout",
     "output_type": "stream",
     "text": [
      "Najlepszy dzień sprzedaży: 2023-01-22\n"
     ]
    }
   ],
   "execution_count": 20
  },
  {
   "metadata": {
    "ExecuteTime": {
     "end_time": "2024-11-28T09:00:55.738355Z",
     "start_time": "2024-11-28T09:00:55.733929Z"
    }
   },
   "cell_type": "code",
   "source": [
    "#Średnia wartość zamówienia na klienta\n",
    "avg_order_value = orders.groupby('Customer')['OrderValue'].mean()\n",
    "avg_order_value"
   ],
   "id": "47adaa06ff0a03e9",
   "outputs": [
    {
     "data": {
      "text/plain": [
       "Customer\n",
       "Chris Brown    2000.000000\n",
       "Emily Davis     950.000000\n",
       "Jane Smith     1166.666667\n",
       "John Doe        750.000000\n",
       "Name: OrderValue, dtype: float64"
      ]
     },
     "execution_count": 21,
     "metadata": {},
     "output_type": "execute_result"
    }
   ],
   "execution_count": 21
  },
  {
   "metadata": {
    "ExecuteTime": {
     "end_time": "2024-11-28T08:49:52.216416Z",
     "start_time": "2024-11-28T08:49:52.214135Z"
    }
   },
   "cell_type": "code",
   "source": "#Wykres sprzedaży w czasie: Skorzystaj z Matplotlib do wizualizacji",
   "id": "d2e1be4c9feaad61",
   "outputs": [],
   "execution_count": 9
  },
  {
   "metadata": {
    "ExecuteTime": {
     "end_time": "2024-11-28T09:01:36.040086Z",
     "start_time": "2024-11-28T09:01:35.912849Z"
    }
   },
   "cell_type": "code",
   "source": [
    "import matplotlib.pyplot as plt\n",
    "\n",
    "daily_sales.plot(kind='line', marker='o', title='Sprzedaż w czasie')\n",
    "plt.xlabel('Data')\n",
    "plt.ylabel('Łączna sprzedaż')\n",
    "plt.show()"
   ],
   "id": "f033d09ac87e5f2e",
   "outputs": [
    {
     "data": {
      "text/plain": [
       "<Figure size 640x480 with 1 Axes>"
      ],
      "image/png": "[encoded data removed]"
     },
     "metadata": {},
     "output_type": "display_data"
    }
   ],
   "execution_count": 22
  },
  {
   "metadata": {},
   "cell_type": "code",
   "outputs": [],
   "execution_count": null,
   "source": "",
   "id": "377afad60ac558e"
  }
 ],
 "metadata": {
  "kernelspec": {
   "display_name": "Python 3",
   "language": "python",
   "name": "python3"
  },
  "language_info": {
   "codemirror_mode": {
    "name": "ipython",
    "version": 2
   },
   "file_extension": ".py",
   "mimetype": "text/x-python",
   "name": "python",
   "nbconvert_exporter": "python",
   "pygments_lexer": "ipython2",
   "version": "2.7.6"
  }
 },
 "nbformat": 4,
 "nbformat_minor": 5
}
